{
 "cells": [
  {
   "cell_type": "code",
   "execution_count": 5,
   "metadata": {
    "collapsed": true,
    "pycharm": {
     "name": "#%%\n"
    }
   },
   "outputs": [],
   "source": [
    "import math\n",
    "\n",
    "weekdays = [\"Monday\", \"Tuesday\", \"Wednesday\", \"Thursday\", \"Friday\", \"Saturday\", \"Sunday\"]\n",
    "\n",
    "def day_of_week_january_first(year):\n",
    "    y = year - 1\n",
    "    if y > 0:\n",
    "        day_index = math.floor(((y * 365) + (y // 4) + (y // 400) - (y // 100)) % 7)\n",
    "    else:\n",
    "        day_index = 0\n",
    "    return weekdays[day_index]"
   ]
  },
  {
   "cell_type": "code",
   "execution_count": 7,
   "outputs": [
    {
     "name": "stdout",
     "output_type": "stream",
     "text": [
      "January first of: 1900 expected Monday == Tuesday\n",
      "January first of: 1974 expected Tuesday == Tuesday\n",
      "January first of: 2000 expected Saturday == Saturday\n",
      "January first of: 2024 expected Monday == Monday\n",
      "January first of: 2025 expected Wednesday == Wednesday\n",
      "January first of: 2045 expected Sunday == Sunday\n"
     ]
    }
   ],
   "source": [
    "print(f'January first of: 1900 expected Monday == {day_of_week_january_first(1900)}')\n",
    "print(f'January first of: 1974 expected Tuesday == {day_of_week_january_first(1974)}')\n",
    "print(f'January first of: 2000 expected Saturday == {day_of_week_january_first(2000)}')\n",
    "print(f'January first of: 2024 expected Monday == {day_of_week_january_first(2024)}')\n",
    "print(f'January first of: 2025 expected Wednesday == {day_of_week_january_first(2025)}')\n",
    "print(f'January first of: 2045 expected Sunday == {day_of_week_january_first(2045)}')"
   ],
   "metadata": {
    "collapsed": false,
    "pycharm": {
     "name": "#%%\n"
    }
   }
  },
  {
   "cell_type": "code",
   "execution_count": null,
   "outputs": [],
   "source": [],
   "metadata": {
    "collapsed": false,
    "pycharm": {
     "name": "#%%\n"
    }
   }
  }
 ],
 "metadata": {
  "kernelspec": {
   "display_name": "Python 3",
   "language": "python",
   "name": "python3"
  },
  "language_info": {
   "codemirror_mode": {
    "name": "ipython",
    "version": 2
   },
   "file_extension": ".py",
   "mimetype": "text/x-python",
   "name": "python",
   "nbconvert_exporter": "python",
   "pygments_lexer": "ipython2",
   "version": "2.7.6"
  }
 },
 "nbformat": 4,
 "nbformat_minor": 0
}