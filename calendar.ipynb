{
 "cells": [
  {
   "cell_type": "code",
   "execution_count": 1,
   "metadata": {
    "collapsed": true,
    "pycharm": {
     "name": "#%%\n"
    }
   },
   "outputs": [],
   "source": [
    "import math\n",
    "\n",
    "weekdays = [\"Monday\", \"Tuesday\", \"Wednesday\", \"Thursday\", \"Friday\", \"Saturday\", \"Sunday\"]\n",
    "\n",
    "def day_of_week_january_first(year):\n",
    "    y = year - 1\n",
    "    day_index = 0\n",
    "    if y > 0:\n",
    "        day_index = math.floor(((y * 365) + (y // 4) + (y // 400) - (y // 100)) % 7)\n",
    "    return weekdays[day_index]"
   ]
  },
  {
   "cell_type": "code",
   "execution_count": 2,
   "outputs": [
    {
     "name": "stdout",
     "output_type": "stream",
     "text": [
      "January first of: 1900 expected Monday == Monday\n",
      "January first of: 1974 expected Tuesday == Tuesday\n",
      "January first of: 2000 expected Saturday == Saturday\n",
      "January first of: 2024 expected Monday == Monday\n",
      "January first of: 2025 expected Wednesday == Wednesday\n",
      "January first of: 2045 expected Sunday == Sunday\n"
     ]
    }
   ],
   "source": [
    "print(f'January first of: 1900 expected Monday == {day_of_week_january_first(1900)}')\n",
    "print(f'January first of: 1974 expected Tuesday == {day_of_week_january_first(1974)}')\n",
    "print(f'January first of: 2000 expected Saturday == {day_of_week_january_first(2000)}')\n",
    "print(f'January first of: 2024 expected Monday == {day_of_week_january_first(2024)}')\n",
    "print(f'January first of: 2025 expected Wednesday == {day_of_week_january_first(2025)}')\n",
    "print(f'January first of: 2045 expected Sunday == {day_of_week_january_first(2045)}')"
   ],
   "metadata": {
    "collapsed": false,
    "pycharm": {
     "name": "#%%\n"
    }
   }
  },
  {
   "cell_type": "code",
   "execution_count": 3,
   "outputs": [],
   "source": [
    "def day_of_week_for_date(day, month, year):\n",
    "\n",
    "    days_in_months = [31, 28, 31, 30, 31, 30, 31, 31, 30, 31, 30, 31]\n",
    "\n",
    "    if (year % 4 == 0 and year % 100 != 0) or (year % 400 == 0):\n",
    "        days_in_months[1] = 29\n",
    "\n",
    "    days = sum(days_in_months[:month - 1]) + day\n",
    "\n",
    "    y = year - 1 # excluding current year\n",
    "\n",
    "    days += ((y * 365) + (y // 4) + (y // 400) - (y // 100) - 1) # excluding current day\n",
    "\n",
    "    day_index = math.floor(days % 7)\n",
    "\n",
    "    return weekdays[day_index]"
   ],
   "metadata": {
    "collapsed": false,
    "pycharm": {
     "name": "#%%\n"
    }
   }
  },
  {
   "cell_type": "code",
   "execution_count": 4,
   "outputs": [
    {
     "name": "stdout",
     "output_type": "stream",
     "text": [
      "Aug 31 expected Saturday == Saturday\n",
      "Nov 14 expected Thursday == Thursday\n",
      "Jan 13 2023 expected Friday == Friday\n"
     ]
    }
   ],
   "source": [
    "print(f'Aug 31 expected Saturday == {day_of_week_for_date(31, 8, 2024)}')\n",
    "print(f'Nov 14 expected Thursday == {day_of_week_for_date(14, 11, 2024)}')\n",
    "print(f'Jan 13 2023 expected Friday == {day_of_week_for_date(13, 1, 2023)}')"
   ],
   "metadata": {
    "collapsed": false,
    "pycharm": {
     "name": "#%%\n"
    }
   }
  },
  {
   "cell_type": "code",
   "execution_count": 7,
   "outputs": [],
   "source": [
    "from datetime import datetime\n",
    "\n",
    "def test_january_first(start_year, end_year):\n",
    "    errors = []\n",
    "\n",
    "    for year in range(start_year, end_year + 1):  # Including the end_year\n",
    "        expected = datetime(year, 1, 1).strftime(\"%A\")  # Day from datetime\n",
    "        actual = day_of_week_for_date(1, 1, year)       # Day from custom function\n",
    "        if expected != actual:\n",
    "            errors.append((year, expected, actual))\n",
    "\n",
    "    if not errors:\n",
    "        print(f\"All tests passed for years {start_year} to {end_year}.\")\n",
    "    else:\n",
    "        print(f\"Errors found in {len(errors)} cases:\")\n",
    "        for year, expected, actual in errors:\n",
    "            print(f\"Year: {year}, Expected: {expected}, Actual: {actual}\")"
   ],
   "metadata": {
    "collapsed": false,
    "pycharm": {
     "name": "#%%\n"
    }
   }
  },
  {
   "cell_type": "code",
   "execution_count": 12,
   "outputs": [
    {
     "name": "stdout",
     "output_type": "stream",
     "text": [
      "All tests passed for years 1 to 2999.\n"
     ]
    }
   ],
   "source": [
    "test_january_first(1, 2999)"
   ],
   "metadata": {
    "collapsed": false,
    "pycharm": {
     "name": "#%%\n"
    }
   }
  },
  {
   "cell_type": "code",
   "execution_count": 11,
   "outputs": [
    {
     "data": {
      "text/plain": "'Monday'"
     },
     "execution_count": 11,
     "metadata": {},
     "output_type": "execute_result"
    }
   ],
   "source": [
    "datetime(1, 1, 1).strftime(\"%A\")"
   ],
   "metadata": {
    "collapsed": false,
    "pycharm": {
     "name": "#%%\n"
    }
   }
  }
 ],
 "metadata": {
  "kernelspec": {
   "display_name": "Python 3",
   "language": "python",
   "name": "python3"
  },
  "language_info": {
   "codemirror_mode": {
    "name": "ipython",
    "version": 2
   },
   "file_extension": ".py",
   "mimetype": "text/x-python",
   "name": "python",
   "nbconvert_exporter": "python",
   "pygments_lexer": "ipython2",
   "version": "2.7.6"
  }
 },
 "nbformat": 4,
 "nbformat_minor": 0
}